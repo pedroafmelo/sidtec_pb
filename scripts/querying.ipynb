{
  "cells": [
    {
      "cell_type": "code",
      "execution_count": 4,
      "metadata": {
        "id": "11wOhKymOgbM"
      },
      "outputs": [],
      "source": [
        "import pandas as pd"
      ]
    },
    {
      "cell_type": "code",
      "source": [
        "keep=[ 'SG_ENTIDADE_ENSINO', 'NM_ENTIDADE_ENSINO', 'NM_PRODUCAO','NM_PROGRAMA',\n",
        "       'NM_SUBTIPO_PRODUCAO', 'NM_AREA_CONCENTRACAO','NM_LINHA_PESQUISA',\n",
        "       'DS_PALAVRA_CHAVE','IN_TRABALHO_MESMA_AREA', 'IN_ORIENT_PARTICIPOU_BANCA',\n",
        "       'ID_PESSOA_DISCENTE', 'NM_DISCENTE', 'NM_GRAU_ACADEMICO', 'NM_ORIENTADOR',\n",
        "       'NM_GRANDE_AREA_CONHECIMENTO', 'NM_AREA_CONHECIMENTO','NM_AREA_CONCENTRACAO',\n",
        "       'NM_AREA_AVALIACAO', 'NR_PAGINAS', 'NM_IDIOMA',\n",
        "       'DS_RESUMO', 'ID_PESSOA_ORIENTADOR', 'IN_TCC_COM_VINCULO_PRODUCAO','NM_UF_IES']\n",
        "\n",
        "path=\"2020.csv\" ##verificar se caminho está correto"
      ],
      "metadata": {
        "id": "4imjN_wNOl1X"
      },
      "execution_count": 10,
      "outputs": []
    },
    {
      "cell_type": "code",
      "execution_count": 11,
      "metadata": {
        "id": "XaND3oG1OgbU"
      },
      "outputs": [],
      "source": [
        "df = (\n",
        "    pd.read_csv(path,encoding=\"latin1\",sep=\";\",usecols=keep)\n",
        "    .query(\"NM_UF_IES =='PARAÍBA'\")\n",
        "    .drop(columns=[\"NM_UF_IES\"])\n",
        ")"
      ]
    },
    {
      "cell_type": "code",
      "source": [
        "###FILLNA'S###\n",
        "\n",
        "df.NM_LINHA_PESQUISA.fillna('-',inplace=True)\n",
        "df.IN_TCC_COM_VINCULO_PRODUCAO.fillna('NI',inplace=True)\n"
      ],
      "metadata": {
        "id": "MGB9L1kCSryB"
      },
      "execution_count": null,
      "outputs": []
    },
    {
      "cell_type": "code",
      "source": [
        "df.to_csv(\"dbt_2020.csv\", index = False)"
      ],
      "metadata": {
        "id": "_YkAmTEeRENU"
      },
      "execution_count": 14,
      "outputs": []
    }
  ],
  "metadata": {
    "kernelspec": {
      "display_name": "Python 3",
      "language": "python",
      "name": "python3"
    },
    "language_info": {
      "codemirror_mode": {
        "name": "ipython",
        "version": 3
      },
      "file_extension": ".py",
      "mimetype": "text/x-python",
      "name": "python",
      "nbconvert_exporter": "python",
      "pygments_lexer": "ipython3",
      "version": "3.12.0"
    },
    "colab": {
      "provenance": []
    }
  },
  "nbformat": 4,
  "nbformat_minor": 0
}